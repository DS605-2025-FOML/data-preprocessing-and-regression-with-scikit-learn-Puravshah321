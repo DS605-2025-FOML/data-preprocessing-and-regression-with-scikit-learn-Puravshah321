{
 "cells": [
  {
   "cell_type": "markdown",
   "id": "e77501b6",
   "metadata": {},
   "source": [
    "<b>Objective</b>: Your goal is to build a robust, end to end machine learning pipeline to\n",
    "predict house prices for the King County dataset. This assignment requires you to\n",
    "move beyond the manual steps in the original notebook and implement a more\n",
    "sophisticated, automated preprocessing workflow using Scikit Learn's Pipeline and\n",
    "ColumnTransformer. You will also perform advanced feature engineering and\n",
    "hyperparameter tuning to maximize model performance."
   ]
  },
  {
   "cell_type": "markdown",
   "id": "425079e0",
   "metadata": {},
   "source": [
    "<b>Task 1</b>: Advanced Exploratory Data Analysis (EDA) & Feature Engineering\n",
    "Before building the model, you must deeply understand and enrich the dataset.\n",
    "Introduce and Handle Missing Data: The original dataset is clean. Real world data\n",
    "is not. To simulate this, randomly introduce approximately 5% missing values into\n",
    "the sqft_lot and bathrooms columns. You'll need to devise an imputation strategy\n",
    "for these later in your pipeline."
   ]
  },
  {
   "cell_type": "code",
   "execution_count": 58,
   "id": "538a11fd",
   "metadata": {},
   "outputs": [],
   "source": [
    "import pandas as pd\n",
    "import numpy as np\n",
    "import matplotlib.pyplot as plt\n",
    "import seaborn as sns\n",
    "from sklearn.model_selection import train_test_split\n",
    "from sklearn.pipeline import Pipeline\n",
    "from sklearn.preprocessing import StandardScaler, OneHotEncoder\n",
    "from sklearn.compose import ColumnTransformer\n",
    "from sklearn.impute import SimpleImputer\n",
    "from sklearn.linear_model import LinearRegression\n",
    "from sklearn.ensemble import RandomForestRegressor, GradientBoostingRegressor\n",
    "from sklearn.model_selection import GridSearchCV\n",
    "from xgboost import XGBRegressor\n",
    "from sklearn.metrics import r2_score, mean_squared_error, mean_absolute_error\n"
   ]
  },
  {
   "cell_type": "code",
   "execution_count": 59,
   "id": "e2a342bf",
   "metadata": {},
   "outputs": [
    {
     "data": {
      "text/html": [
       "<div>\n",
       "<style scoped>\n",
       "    .dataframe tbody tr th:only-of-type {\n",
       "        vertical-align: middle;\n",
       "    }\n",
       "\n",
       "    .dataframe tbody tr th {\n",
       "        vertical-align: top;\n",
       "    }\n",
       "\n",
       "    .dataframe thead th {\n",
       "        text-align: right;\n",
       "    }\n",
       "</style>\n",
       "<table border=\"1\" class=\"dataframe\">\n",
       "  <thead>\n",
       "    <tr style=\"text-align: right;\">\n",
       "      <th></th>\n",
       "      <th>id</th>\n",
       "      <th>date</th>\n",
       "      <th>price</th>\n",
       "      <th>bedrooms</th>\n",
       "      <th>bathrooms</th>\n",
       "      <th>sqft_living</th>\n",
       "      <th>sqft_lot</th>\n",
       "      <th>floors</th>\n",
       "      <th>waterfront</th>\n",
       "      <th>view</th>\n",
       "      <th>...</th>\n",
       "      <th>grade</th>\n",
       "      <th>sqft_above</th>\n",
       "      <th>sqft_basement</th>\n",
       "      <th>yr_built</th>\n",
       "      <th>yr_renovated</th>\n",
       "      <th>zipcode</th>\n",
       "      <th>lat</th>\n",
       "      <th>long</th>\n",
       "      <th>sqft_living15</th>\n",
       "      <th>sqft_lot15</th>\n",
       "    </tr>\n",
       "  </thead>\n",
       "  <tbody>\n",
       "    <tr>\n",
       "      <th>0</th>\n",
       "      <td>7129300520</td>\n",
       "      <td>20141013T000000</td>\n",
       "      <td>221900.0</td>\n",
       "      <td>3</td>\n",
       "      <td>1.00</td>\n",
       "      <td>1180</td>\n",
       "      <td>5650</td>\n",
       "      <td>1.0</td>\n",
       "      <td>0</td>\n",
       "      <td>0</td>\n",
       "      <td>...</td>\n",
       "      <td>7</td>\n",
       "      <td>1180</td>\n",
       "      <td>0</td>\n",
       "      <td>1955</td>\n",
       "      <td>0</td>\n",
       "      <td>98178</td>\n",
       "      <td>47.5112</td>\n",
       "      <td>-122.257</td>\n",
       "      <td>1340</td>\n",
       "      <td>5650</td>\n",
       "    </tr>\n",
       "    <tr>\n",
       "      <th>1</th>\n",
       "      <td>6414100192</td>\n",
       "      <td>20141209T000000</td>\n",
       "      <td>538000.0</td>\n",
       "      <td>3</td>\n",
       "      <td>2.25</td>\n",
       "      <td>2570</td>\n",
       "      <td>7242</td>\n",
       "      <td>2.0</td>\n",
       "      <td>0</td>\n",
       "      <td>0</td>\n",
       "      <td>...</td>\n",
       "      <td>7</td>\n",
       "      <td>2170</td>\n",
       "      <td>400</td>\n",
       "      <td>1951</td>\n",
       "      <td>1991</td>\n",
       "      <td>98125</td>\n",
       "      <td>47.7210</td>\n",
       "      <td>-122.319</td>\n",
       "      <td>1690</td>\n",
       "      <td>7639</td>\n",
       "    </tr>\n",
       "    <tr>\n",
       "      <th>2</th>\n",
       "      <td>5631500400</td>\n",
       "      <td>20150225T000000</td>\n",
       "      <td>180000.0</td>\n",
       "      <td>2</td>\n",
       "      <td>1.00</td>\n",
       "      <td>770</td>\n",
       "      <td>10000</td>\n",
       "      <td>1.0</td>\n",
       "      <td>0</td>\n",
       "      <td>0</td>\n",
       "      <td>...</td>\n",
       "      <td>6</td>\n",
       "      <td>770</td>\n",
       "      <td>0</td>\n",
       "      <td>1933</td>\n",
       "      <td>0</td>\n",
       "      <td>98028</td>\n",
       "      <td>47.7379</td>\n",
       "      <td>-122.233</td>\n",
       "      <td>2720</td>\n",
       "      <td>8062</td>\n",
       "    </tr>\n",
       "    <tr>\n",
       "      <th>3</th>\n",
       "      <td>2487200875</td>\n",
       "      <td>20141209T000000</td>\n",
       "      <td>604000.0</td>\n",
       "      <td>4</td>\n",
       "      <td>3.00</td>\n",
       "      <td>1960</td>\n",
       "      <td>5000</td>\n",
       "      <td>1.0</td>\n",
       "      <td>0</td>\n",
       "      <td>0</td>\n",
       "      <td>...</td>\n",
       "      <td>7</td>\n",
       "      <td>1050</td>\n",
       "      <td>910</td>\n",
       "      <td>1965</td>\n",
       "      <td>0</td>\n",
       "      <td>98136</td>\n",
       "      <td>47.5208</td>\n",
       "      <td>-122.393</td>\n",
       "      <td>1360</td>\n",
       "      <td>5000</td>\n",
       "    </tr>\n",
       "    <tr>\n",
       "      <th>4</th>\n",
       "      <td>1954400510</td>\n",
       "      <td>20150218T000000</td>\n",
       "      <td>510000.0</td>\n",
       "      <td>3</td>\n",
       "      <td>2.00</td>\n",
       "      <td>1680</td>\n",
       "      <td>8080</td>\n",
       "      <td>1.0</td>\n",
       "      <td>0</td>\n",
       "      <td>0</td>\n",
       "      <td>...</td>\n",
       "      <td>8</td>\n",
       "      <td>1680</td>\n",
       "      <td>0</td>\n",
       "      <td>1987</td>\n",
       "      <td>0</td>\n",
       "      <td>98074</td>\n",
       "      <td>47.6168</td>\n",
       "      <td>-122.045</td>\n",
       "      <td>1800</td>\n",
       "      <td>7503</td>\n",
       "    </tr>\n",
       "  </tbody>\n",
       "</table>\n",
       "<p>5 rows × 21 columns</p>\n",
       "</div>"
      ],
      "text/plain": [
       "           id             date     price  bedrooms  bathrooms  sqft_living  \\\n",
       "0  7129300520  20141013T000000  221900.0         3       1.00         1180   \n",
       "1  6414100192  20141209T000000  538000.0         3       2.25         2570   \n",
       "2  5631500400  20150225T000000  180000.0         2       1.00          770   \n",
       "3  2487200875  20141209T000000  604000.0         4       3.00         1960   \n",
       "4  1954400510  20150218T000000  510000.0         3       2.00         1680   \n",
       "\n",
       "   sqft_lot  floors  waterfront  view  ...  grade  sqft_above  sqft_basement  \\\n",
       "0      5650     1.0           0     0  ...      7        1180              0   \n",
       "1      7242     2.0           0     0  ...      7        2170            400   \n",
       "2     10000     1.0           0     0  ...      6         770              0   \n",
       "3      5000     1.0           0     0  ...      7        1050            910   \n",
       "4      8080     1.0           0     0  ...      8        1680              0   \n",
       "\n",
       "   yr_built  yr_renovated  zipcode      lat     long  sqft_living15  \\\n",
       "0      1955             0    98178  47.5112 -122.257           1340   \n",
       "1      1951          1991    98125  47.7210 -122.319           1690   \n",
       "2      1933             0    98028  47.7379 -122.233           2720   \n",
       "3      1965             0    98136  47.5208 -122.393           1360   \n",
       "4      1987             0    98074  47.6168 -122.045           1800   \n",
       "\n",
       "   sqft_lot15  \n",
       "0        5650  \n",
       "1        7639  \n",
       "2        8062  \n",
       "3        5000  \n",
       "4        7503  \n",
       "\n",
       "[5 rows x 21 columns]"
      ]
     },
     "execution_count": 59,
     "metadata": {},
     "output_type": "execute_result"
    }
   ],
   "source": [
    "df = pd.read_csv(\"kc_house_data.csv\")\n",
    "df.head()"
   ]
  },
  {
   "cell_type": "code",
   "execution_count": 60,
   "id": "c268e514",
   "metadata": {},
   "outputs": [
    {
     "data": {
      "text/plain": [
       "id               0\n",
       "date             0\n",
       "price            0\n",
       "bedrooms         0\n",
       "bathrooms        0\n",
       "sqft_living      0\n",
       "sqft_lot         0\n",
       "floors           0\n",
       "waterfront       0\n",
       "view             0\n",
       "condition        0\n",
       "grade            0\n",
       "sqft_above       0\n",
       "sqft_basement    0\n",
       "yr_built         0\n",
       "yr_renovated     0\n",
       "zipcode          0\n",
       "lat              0\n",
       "long             0\n",
       "sqft_living15    0\n",
       "sqft_lot15       0\n",
       "dtype: int64"
      ]
     },
     "execution_count": 60,
     "metadata": {},
     "output_type": "execute_result"
    }
   ],
   "source": [
    "df.isnull().sum()\n"
   ]
  },
  {
   "cell_type": "markdown",
   "id": "bcaf02da",
   "metadata": {},
   "source": [
    "<b>1. Outlier Detection and Handling:</b><br>\n",
    "○ Create boxplots for price, sqft_living, and bedrooms.<br>\n",
    "○ Identify and remove egregious outliers. A common rule is to remove\n",
    "data points that lie beyond 1.5timesIQR (Interquartile Range) from the\n",
    "first or third quartile. Justify your outlier removal strategy. For\n",
    "instance, does a house with 33 bedrooms seem plausible?"
   ]
  },
  {
   "cell_type": "code",
   "execution_count": 61,
   "id": "9b96d666",
   "metadata": {},
   "outputs": [
    {
     "data": {
      "text/plain": [
       "<Figure size 1500x500 with 0 Axes>"
      ]
     },
     "execution_count": 61,
     "metadata": {},
     "output_type": "execute_result"
    },
    {
     "data": {
      "text/plain": [
       "<Figure size 1500x500 with 0 Axes>"
      ]
     },
     "metadata": {},
     "output_type": "display_data"
    }
   ],
   "source": [
    "plt.figure(figsize=(15,5))"
   ]
  },
  {
   "cell_type": "code",
   "execution_count": 62,
   "id": "d744781c",
   "metadata": {},
   "outputs": [
    {
     "data": {
      "text/plain": [
       "Text(0.5, 1.0, 'Boxplot - Price')"
      ]
     },
     "execution_count": 62,
     "metadata": {},
     "output_type": "execute_result"
    },
    {
     "data": {
      "image/png": "[encoded data removed]",
      "text/plain": [
       "<Figure size 640x480 with 1 Axes>"
      ]
     },
     "metadata": {},
     "output_type": "display_data"
    }
   ],
   "source": [
    "plt.subplot(1, 3, 1)\n",
    "plt.boxplot(df['price'])\n",
    "plt.title(\"Boxplot - Price\")"
   ]
  },
  {
   "cell_type": "code",
   "execution_count": 63,
   "id": "be516187",
   "metadata": {},
   "outputs": [
    {
     "data": {
      "text/plain": [
       "Text(0.5, 1.0, 'Boxplot - Sqft Living')"
      ]
     },
     "execution_count": 63,
     "metadata": {},
     "output_type": "execute_result"
    },
    {
     "data": {
      "image/png": "[encoded data removed]",
      "text/plain": [
       "<Figure size 640x480 with 1 Axes>"
      ]
     },
     "metadata": {},
     "output_type": "display_data"
    }
   ],
   "source": [
    "plt.subplot(1, 3, 2)\n",
    "plt.boxplot(df['sqft_living'])\n",
    "plt.title(\"Boxplot - Sqft Living\")"
   ]
  },
  {
   "cell_type": "code",
   "execution_count": 64,
   "id": "0bd057bd",
   "metadata": {},
   "outputs": [
    {
     "data": {
      "text/plain": [
       "Text(0.5, 1.0, 'Boxplot - Bedrooms')"
      ]
     },
     "execution_count": 64,
     "metadata": {},
     "output_type": "execute_result"
    },
    {
     "data": {
      "image/png": "[encoded data removed]",
      "text/plain": [
       "<Figure size 640x480 with 1 Axes>"
      ]
     },
     "metadata": {},
     "output_type": "display_data"
    }
   ],
   "source": [
    "plt.subplot(1,3,3)\n",
    "plt.boxplot(df['bedrooms'])\n",
    "plt.title(\"Boxplot - Bedrooms\")"
   ]
  },
  {
   "cell_type": "code",
   "execution_count": 65,
   "id": "00d1a09c",
   "metadata": {},
   "outputs": [],
   "source": [
    "plt.show()"
   ]
  },
  {
   "cell_type": "code",
   "execution_count": 66,
   "id": "cb891a97",
   "metadata": {},
   "outputs": [],
   "source": [
    "Q1 = df['price'].quantile(0.25)\n",
    "Q3 = df['price'].quantile(0.75)\n",
    "IQR = Q3 -Q1\n",
    "lowp = Q1 - 1.5*IQR\n",
    "highp = Q3 +1.5*IQR"
   ]
  },
  {
   "cell_type": "code",
   "execution_count": 67,
   "id": "93011b9b",
   "metadata": {},
   "outputs": [],
   "source": [
    "Q1 = df['sqft_living'].quantile(0.25)\n",
    "Q3 = df['sqft_living'].quantile(0.75)\n",
    "IQR = Q3 -Q1\n",
    "lows = Q1 - 1.5*IQR\n",
    "highs = Q3 +1.5*IQR"
   ]
  },
  {
   "cell_type": "code",
   "execution_count": 68,
   "id": "fe05a675",
   "metadata": {},
   "outputs": [],
   "source": [
    "Q1 = df['bedrooms'].quantile(0.25)\n",
    "Q3 = df['bedrooms'].quantile(0.75)\n",
    "IQR = Q3 -Q1\n",
    "lowb = Q1 - 1.5*IQR\n",
    "highb = Q3 +1.5*IQR"
   ]
  },
  {
   "cell_type": "code",
   "execution_count": 69,
   "id": "a35d7a87",
   "metadata": {},
   "outputs": [],
   "source": [
    "df_clean = df[\n",
    "    (df['price'] >=lowp) & (df['price'] <= highp) &\n",
    "    (df['sqft_living'] >=lows) & (df['sqft_living'] <= highs) &\n",
    "    (df['bedrooms'] >=lowb) & (df['bedrooms'] <= highb)\n",
    "]"
   ]
  },
  {
   "cell_type": "code",
   "execution_count": 70,
   "id": "c8ff547e",
   "metadata": {},
   "outputs": [
    {
     "name": "stdout",
     "output_type": "stream",
     "text": [
      "Before removal: (21613, 21)\n",
      "After removal: (19817, 21)\n"
     ]
    }
   ],
   "source": [
    "print(\"Before removal:\", df.shape)\n",
    "print(\"After removal:\", df_clean.shape)"
   ]
  },
  {
   "cell_type": "code",
   "execution_count": 71,
   "id": "38da2848",
   "metadata": {},
   "outputs": [
    {
     "name": "stdout",
     "output_type": "stream",
     "text": [
      "Max bedrooms before: 33\n",
      "Max bedrooms after : 5\n",
      "Max sqft_living before: 13540\n",
      "Max sqft_living after : 4230\n",
      "Max price before: 7700000.0\n",
      "Max price after : 1120000.0\n"
     ]
    }
   ],
   "source": [
    "print(\"Max bedrooms before:\", df[\"bedrooms\"].max())\n",
    "print(\"Max bedrooms after :\", df_clean[\"bedrooms\"].max())\n",
    "\n",
    "print(\"Max sqft_living before:\", df[\"sqft_living\"].max())\n",
    "print(\"Max sqft_living after :\", df_clean[\"sqft_living\"].max())\n",
    "\n",
    "print(\"Max price before:\", df[\"price\"].max())\n",
    "print(\"Max price after :\", df_clean[\"price\"].max())"
   ]
  },
  {
   "cell_type": "markdown",
   "id": "f47441f5",
   "metadata": {},
   "source": [
    "<b>Question:</b>Justify your outlier removal strategy. For\n",
    "instance, does a house with 33 bedrooms seem plausible?<br><br>\n",
    "<b>Answers:</b><br><br>for bedrooms max were 33 which is next to impossible in real life there are max 5 to 6 so they are outliers and can lead to giving wrong values so we removed it.<br><br>\n",
    "then sqft living had 13000 sqft which is also very hard to find and can lead to predicting wrong values so we removed outliers here tooo<br><br>\n",
    "and the price which was max was 77 lakh dollars which is too high for a normal average building if these would have been included in our data the prediction of normal houses would also get higher as it will pull the price prediction graph upwards<br>"
   ]
  },
  {
   "cell_type": "markdown",
   "id": "88f1f578",
   "metadata": {},
   "source": [
    "<b>2. Advanced Feature Engineering:</b><br> Create the following new features, as they\n",
    "often provide more predictive power than raw data:<br>\n",
    "○ Date-Based Features: Do not drop the date column. Convert it to a\n",
    "datetime object and engineer the following:<br>\n",
    "■ sale_year: The year the house was sold.<br>\n",
    "■ sale_month: The month the house was sold.<br>\n",
    "■ house_age: The age of the house at the time of sale (sale_year -\n",
    "yr_built).<br>\n",
    "○ Renovation Status:<br>\n",
    "■ was_renovated: A binary feature (1 if yr_renovated is not 0,\n",
    "else 0).<br>\n",
    "■ age_since_renovation: Years since renovation. If never\n",
    "renovated, this could be the same as house_age. Think about the\n",
    "best way to handle this.<br>\n",
    "○ Ratio Features: Create at least two insightful ratio features. For\n",
    "example:<br>\n",
    "■ sqft_living_per_floor: sqft_living / floors. (Handle cases where\n",
    "floors might be 0).<br>\n",
    "■ bath_per_bed: bathrooms / bedrooms. (Handle cases where\n",
    "bedrooms might be 0).<br>\n"
   ]
  },
  {
   "cell_type": "code",
   "execution_count": 72,
   "id": "8ef67df8",
   "metadata": {},
   "outputs": [],
   "source": [
    "dfc = df_clean.copy()"
   ]
  },
  {
   "cell_type": "code",
   "execution_count": 73,
   "id": "096e5076",
   "metadata": {},
   "outputs": [],
   "source": [
    "dfc['date'] = pd.to_datetime(dfc['date'],errors=\"coerce\")\n",
    "dfc['year_sold'] = dfc['date'].dt.year\n",
    "dfc['month_sold'] = dfc['date'].dt.month\n",
    "\n",
    "dfc['house_age'] = dfc['year_sold'] - dfc['yr_built']\n",
    "dfc['was_renovated'] = np.where(dfc[\"yr_renovated\"] > 0, 1, 0)\n",
    "\n",
    "dfc['age_since_renovation'] = np.where(dfc[\"yr_renovated\"] > 0, dfc['year_sold'] - dfc['yr_renovated'], dfc['house_age'])\n",
    "\n",
    "# Ratio Features\n",
    "dfc['sqft_living_per_floor'] = np.where(\n",
    "    dfc['floors'] > 0,\n",
    "    dfc['sqft_living'] / dfc['floors'],\n",
    "    dfc['sqft_living'] / 1   # Assuming at least 1 floor if floors is 0\n",
    ")\n",
    "\n",
    "# bathrooms per bedroom (avoid division by zero)\n",
    "dfc[\"bath_per_bed\"] = np.where(\n",
    "    dfc[\"bedrooms\"] > 0,\n",
    "    dfc[\"bathrooms\"] / dfc[\"bedrooms\"],\n",
    "    np.nan\n",
    ")\n",
    "\n"
   ]
  },
  {
   "cell_type": "code",
   "execution_count": 74,
   "id": "6818b7ad",
   "metadata": {},
   "outputs": [
    {
     "data": {
      "text/html": [
       "<div>\n",
       "<style scoped>\n",
       "    .dataframe tbody tr th:only-of-type {\n",
       "        vertical-align: middle;\n",
       "    }\n",
       "\n",
       "    .dataframe tbody tr th {\n",
       "        vertical-align: top;\n",
       "    }\n",
       "\n",
       "    .dataframe thead th {\n",
       "        text-align: right;\n",
       "    }\n",
       "</style>\n",
       "<table border=\"1\" class=\"dataframe\">\n",
       "  <thead>\n",
       "    <tr style=\"text-align: right;\">\n",
       "      <th></th>\n",
       "      <th>date</th>\n",
       "      <th>year_sold</th>\n",
       "      <th>month_sold</th>\n",
       "      <th>house_age</th>\n",
       "      <th>was_renovated</th>\n",
       "      <th>age_since_renovation</th>\n",
       "      <th>sqft_living_per_floor</th>\n",
       "      <th>bath_per_bed</th>\n",
       "      <th>floors</th>\n",
       "    </tr>\n",
       "  </thead>\n",
       "  <tbody>\n",
       "    <tr>\n",
       "      <th>0</th>\n",
       "      <td>2014-10-13</td>\n",
       "      <td>2014</td>\n",
       "      <td>10</td>\n",
       "      <td>59</td>\n",
       "      <td>0</td>\n",
       "      <td>59</td>\n",
       "      <td>1180.0</td>\n",
       "      <td>0.333333</td>\n",
       "      <td>1.0</td>\n",
       "    </tr>\n",
       "    <tr>\n",
       "      <th>1</th>\n",
       "      <td>2014-12-09</td>\n",
       "      <td>2014</td>\n",
       "      <td>12</td>\n",
       "      <td>63</td>\n",
       "      <td>1</td>\n",
       "      <td>23</td>\n",
       "      <td>1285.0</td>\n",
       "      <td>0.750000</td>\n",
       "      <td>2.0</td>\n",
       "    </tr>\n",
       "    <tr>\n",
       "      <th>2</th>\n",
       "      <td>2015-02-25</td>\n",
       "      <td>2015</td>\n",
       "      <td>2</td>\n",
       "      <td>82</td>\n",
       "      <td>0</td>\n",
       "      <td>82</td>\n",
       "      <td>770.0</td>\n",
       "      <td>0.500000</td>\n",
       "      <td>1.0</td>\n",
       "    </tr>\n",
       "    <tr>\n",
       "      <th>3</th>\n",
       "      <td>2014-12-09</td>\n",
       "      <td>2014</td>\n",
       "      <td>12</td>\n",
       "      <td>49</td>\n",
       "      <td>0</td>\n",
       "      <td>49</td>\n",
       "      <td>1960.0</td>\n",
       "      <td>0.750000</td>\n",
       "      <td>1.0</td>\n",
       "    </tr>\n",
       "    <tr>\n",
       "      <th>4</th>\n",
       "      <td>2015-02-18</td>\n",
       "      <td>2015</td>\n",
       "      <td>2</td>\n",
       "      <td>28</td>\n",
       "      <td>0</td>\n",
       "      <td>28</td>\n",
       "      <td>1680.0</td>\n",
       "      <td>0.666667</td>\n",
       "      <td>1.0</td>\n",
       "    </tr>\n",
       "  </tbody>\n",
       "</table>\n",
       "</div>"
      ],
      "text/plain": [
       "        date  year_sold  month_sold  house_age  was_renovated  \\\n",
       "0 2014-10-13       2014          10         59              0   \n",
       "1 2014-12-09       2014          12         63              1   \n",
       "2 2015-02-25       2015           2         82              0   \n",
       "3 2014-12-09       2014          12         49              0   \n",
       "4 2015-02-18       2015           2         28              0   \n",
       "\n",
       "   age_since_renovation  sqft_living_per_floor  bath_per_bed  floors  \n",
       "0                    59                 1180.0      0.333333     1.0  \n",
       "1                    23                 1285.0      0.750000     2.0  \n",
       "2                    82                  770.0      0.500000     1.0  \n",
       "3                    49                 1960.0      0.750000     1.0  \n",
       "4                    28                 1680.0      0.666667     1.0  "
      ]
     },
     "execution_count": 74,
     "metadata": {},
     "output_type": "execute_result"
    }
   ],
   "source": [
    "# --- Check the new features ---\n",
    "dfc[[\n",
    "    \"date\", \"year_sold\", \"month_sold\", \"house_age\",\n",
    "    \"was_renovated\", \"age_since_renovation\",\n",
    "    \"sqft_living_per_floor\", \"bath_per_bed\",\"floors\"\n",
    "]].head()"
   ]
  },
  {
   "cell_type": "markdown",
   "id": "0aa1f817",
   "metadata": {},
   "source": [
    "<b>Task 2</b>: Build a Sophisticated Preprocessing Pipeline\n",
    "This is the core of the assignment. Instead of manually applying transformations,\n",
    "you must automate the process using sklearn.pipeline.Pipeline and\n",
    "sklearn.compose.ColumnTransformer. This approach is less error prone and is\n",
    "standard practice in production environments.\n"
   ]
  },
  {
   "cell_type": "markdown",
   "id": "37b37a79",
   "metadata": {},
   "source": [
    "<b>1. Identify Feature Types:</b> After your feature engineering in Task 1, categorize\n",
    "your final columns into three groups:<br>\n",
    "○ Numerical Features: Continuous variables that need imputation and\n",
    "scaling (e.g., sqft_living, house_age, sqft_lot).<br>\n",
    "○ Categorical Features: Features that should be treated as categories, not\n",
    "numbers (e.g., zipcode).<br>\n",
    "○ Passthrough Features: Features you believe don't need scaling or\n",
    "encoding but are still useful (e.g., grade, condition, was_renovated).<br>\n"
   ]
  },
  {
   "cell_type": "code",
   "execution_count": 75,
   "id": "858e6341",
   "metadata": {},
   "outputs": [],
   "source": [
    "num_features = [\n",
    "    \"sqft_living\", \"sqft_lot\", \"house_age\",\n",
    "    \"bathrooms\", \"bedrooms\", \"sqft_living_per_floor\", \"bath_per_bed\"\n",
    "]\n",
    "cat_features = [\"zipcode\"]\n",
    "passthrough_features = [\"grade\", \"condition\", \"was_renovated\"]\n"
   ]
  },
  {
   "cell_type": "markdown",
   "id": "a351a3a2",
   "metadata": {},
   "source": [
    "2. Create Preprocessing Pipelines for Each Type:<br>\n",
    "○ Numerical Pipeline: Create a Pipeline that first imputes missing values\n",
    "(using SimpleImputer with a median strategy) and then scales the data\n",
    "(using StandardScaler).<br>\n",
    "○ Categorical Pipeline: Create a Pipeline that applies OneHotEncoder to\n",
    "the zipcode column. Set handle_unknown='ignore' to prevent errors if\n",
    "the test set contains a zipcode not seen in the training set.<br>"
   ]
  },
  {
   "cell_type": "markdown",
   "id": "6e3e40e5",
   "metadata": {},
   "source": [
    "3. Combine Pipelines with ColumnTransformer:<br>\n",
    "○ Use ColumnTransformer to apply your numerical pipeline to the\n",
    "numerical columns, your categorical pipeline to the categorical\n",
    "columns, and specify 'passthrough' for the passthrough columns.<br>\n",
    "○ This ColumnTransformer will be the first step in your final modeling\n",
    "pipeline<br>"
   ]
  },
  {
   "cell_type": "code",
   "execution_count": 76,
   "id": "6b3805db",
   "metadata": {},
   "outputs": [],
   "source": [
    "n_pipe = Pipeline(steps=[\n",
    "    ('imputer', SimpleImputer(strategy='median')),\n",
    "    ('scalar', StandardScaler())\n",
    "])\n",
    "c_pipe = Pipeline(steps=[\n",
    "    ('encoder', OneHotEncoder(handle_unknown='ignore'))\n",
    "])\n",
    "\n",
    "preprocessor = ColumnTransformer(transformers=[\n",
    "    (\"num\", n_pipe, num_features),\n",
    "    (\"cat\", c_pipe, cat_features),\n",
    "    (\"pass\", \"passthrough\", passthrough_features)\n",
    "])"
   ]
  },
  {
   "cell_type": "code",
   "execution_count": 77,
   "id": "5df631eb",
   "metadata": {},
   "outputs": [
    {
     "name": "stdout",
     "output_type": "stream",
     "text": [
      "Train score: 0.8141999707256212\n",
      "Test score: 0.8223182938317092\n"
     ]
    }
   ],
   "source": [
    "X = dfc.drop(\"price\", axis=1)\n",
    "y = dfc[\"price\"]\n",
    "\n",
    "# Split data\n",
    "X_train, X_test, y_train, y_test = train_test_split(\n",
    "    X, y, test_size=0.2, random_state=42\n",
    ")\n",
    "\n",
    "# Full pipeline: preprocessing + model\n",
    "model = Pipeline(steps=[\n",
    "    (\"preprocessor\", preprocessor),\n",
    "    (\"regressor\", LinearRegression())\n",
    "])\n",
    "\n",
    "# Fit pipeline\n",
    "model.fit(X_train, y_train)\n",
    "\n",
    "# Evaluate\n",
    "print(\"Train score:\", model.score(X_train, y_train))\n",
    "print(\"Test score:\", model.score(X_test, y_test))"
   ]
  },
  {
   "cell_type": "markdown",
   "id": "0df9865a",
   "metadata": {},
   "source": [
    "<b>Task 3: Model Training and Hyperparameter Tuning</b>\n",
    "Now, find the best possible model by tuning its hyperparameters.<br>\n",
    "1. Select Candidate Models: Based on the results from the original notebook,\n",
    "choose the top 3 performing models (e.g., Gradient Boosting, XGBoost,\n",
    "Random Forest).<br>\n",
    "Create a Final Pipeline: For each of the three models, create a main Pipeline that<br>\n",
    "chains your ColumnTransformer (from Task 2) and the model estimator. For\n",
    "example:<br><br>\n",
    "Python<br>\n",
    "from sklearn.pipeline import Pipeline<br>\n",
    "from sklearn.ensemble import RandomForestRegressor<br>\n",
    "preprocessor is your ColumnTransformer from Task 2<br>\n",
    "final_pipeline = Pipeline(steps=[('preprocessor', preprocessor),<br>\n",
    "('regressor', RandomForestRegressor(random_state=42))])<br>\n",
    "2. Hyperparameter Tuning with GridSearchCV:<br>\n",
    "○ For each of your three final pipelines, define a parameter grid\n",
    "(param_grid) to search. For the regressor step, remember to prefix the\n",
    "parameter names with regressor__ (e.g., 'regressor__n_estimators':\n",
    "[100, 200]).<br>\n",
    "○ Choose at least two parameters to tune for each model.<br>\n",
    "○ Use GridSearchCV with 3 fold cross-validation (cv=3) to find the best\n",
    "set of hyperparameters for each model.<br>\n",
    "○ Train GridSearchCV on the full training data. It will automatically\n",
    "handle applying the preprocessing pipeline correctly during\n",
    "cross-validation<br>"
   ]
  },
  {
   "cell_type": "code",
   "execution_count": 78,
   "id": "fa8cecbb",
   "metadata": {},
   "outputs": [],
   "source": [
    "from sklearn.ensemble import RandomForestRegressor, GradientBoostingRegressor\n",
    "from xgboost import XGBRegressor\n",
    "from sklearn.model_selection import GridSearchCV\n"
   ]
  },
  {
   "cell_type": "code",
   "execution_count": 80,
   "id": "836ed989",
   "metadata": {},
   "outputs": [
    {
     "name": "stdout",
     "output_type": "stream",
     "text": [
      "Fitting 3 folds for each of 12 candidates, totalling 36 fits\n",
      "Random Forest Best Params: {'regressor__max_depth': None, 'regressor__min_samples_split': 5, 'regressor__n_estimators': 200}\n",
      "Random Forest Best CV Score: 0.7736815926854054\n",
      "Fitting 3 folds for each of 8 candidates, totalling 24 fits\n",
      "Gradient Boosting Best Params: {'regressor__learning_rate': 0.1, 'regressor__max_depth': 5, 'regressor__n_estimators': 200}\n",
      "Gradient Boosting Best CV Score: 0.8161837907612229\n",
      "Fitting 3 folds for each of 8 candidates, totalling 24 fits\n",
      "XGBoost Best Params: {'regressor__learning_rate': 0.1, 'regressor__max_depth': 5, 'regressor__n_estimators': 200}\n",
      "XGBoost Best CV Score: 0.8153007817016772\n"
     ]
    }
   ],
   "source": [
    "rf_pipeline = Pipeline(steps=[\n",
    "    (\"preprocessor\", preprocessor),\n",
    "    (\"regressor\", RandomForestRegressor(random_state=42))\n",
    "])\n",
    "\n",
    "rf_param_grid = {\n",
    "    \"regressor__n_estimators\": [100, 200],\n",
    "    \"regressor__max_depth\": [None, 10, 20],\n",
    "    \"regressor__min_samples_split\": [2, 5]\n",
    "}\n",
    "\n",
    "rf_grid = GridSearchCV(\n",
    "    rf_pipeline,\n",
    "    rf_param_grid,\n",
    "    cv=3,\n",
    "    scoring=\"r2\",\n",
    "    n_jobs=-1,\n",
    "    verbose=1\n",
    ")\n",
    "\n",
    "rf_grid.fit(X_train, y_train)\n",
    "print(\"Random Forest Best Params:\", rf_grid.best_params_)\n",
    "print(\"Random Forest Best CV Score:\", rf_grid.best_score_)\n",
    "\n",
    "\n",
    "gb_pipeline = Pipeline(steps=[\n",
    "    (\"preprocessor\", preprocessor),\n",
    "    (\"regressor\", GradientBoostingRegressor(random_state=42))\n",
    "])\n",
    "\n",
    "gb_param_grid = {\n",
    "    \"regressor__n_estimators\": [100, 200],\n",
    "    \"regressor__learning_rate\": [0.05, 0.1],\n",
    "    \"regressor__max_depth\": [3, 5]\n",
    "}\n",
    "\n",
    "gb_grid = GridSearchCV(\n",
    "    gb_pipeline,\n",
    "    gb_param_grid,\n",
    "    cv=3,\n",
    "    scoring=\"r2\",\n",
    "    n_jobs=-1,\n",
    "    verbose=1\n",
    ")\n",
    "\n",
    "gb_grid.fit(X_train, y_train)\n",
    "print(\"Gradient Boosting Best Params:\", gb_grid.best_params_)\n",
    "print(\"Gradient Boosting Best CV Score:\", gb_grid.best_score_)\n",
    "\n",
    "\n",
    "xgb_pipeline = Pipeline(steps=[\n",
    "    (\"preprocessor\", preprocessor),\n",
    "    (\"regressor\", XGBRegressor(random_state=42, objective=\"reg:squarederror\"))\n",
    "])\n",
    "\n",
    "xgb_param_grid = {\n",
    "    \"regressor__n_estimators\": [100, 200],\n",
    "    \"regressor__learning_rate\": [0.05, 0.1],\n",
    "    \"regressor__max_depth\": [3, 5]\n",
    "}\n",
    "\n",
    "xgb_grid = GridSearchCV(\n",
    "    xgb_pipeline,\n",
    "    xgb_param_grid,\n",
    "    cv=3,\n",
    "    scoring=\"r2\",\n",
    "    n_jobs=-1,\n",
    "    verbose=1\n",
    ")\n",
    "\n",
    "xgb_grid.fit(X_train, y_train)\n",
    "print(\"XGBoost Best Params:\", xgb_grid.best_params_)\n",
    "print(\"XGBoost Best CV Score:\", xgb_grid.best_score_)"
   ]
  },
  {
   "cell_type": "code",
   "execution_count": 81,
   "id": "cef15f18",
   "metadata": {},
   "outputs": [
    {
     "name": "stdout",
     "output_type": "stream",
     "text": [
      "Best Model: Pipeline(steps=[('preprocessor',\n",
      "                 ColumnTransformer(transformers=[('num',\n",
      "                                                  Pipeline(steps=[('imputer',\n",
      "                                                                   SimpleImputer(strategy='median')),\n",
      "                                                                  ('scalar',\n",
      "                                                                   StandardScaler())]),\n",
      "                                                  ['sqft_living', 'sqft_lot',\n",
      "                                                   'house_age', 'bathrooms',\n",
      "                                                   'bedrooms',\n",
      "                                                   'sqft_living_per_floor',\n",
      "                                                   'bath_per_bed']),\n",
      "                                                 ('cat',\n",
      "                                                  Pipeline(steps=[('encoder',\n",
      "                                                                   OneHotEncoder(handle_unknown='ignore'))]),\n",
      "                                                  ['zipcode']),\n",
      "                                                 ('pass', 'passthrough',\n",
      "                                                  ['grade', 'condition',\n",
      "                                                   'was_renovated'])])),\n",
      "                ('regressor',\n",
      "                 GradientBoostingRegressor(max_depth=5, n_estimators=200,\n",
      "                                           random_state=42))])\n",
      "Best Parameters: {'regressor__learning_rate': 0.1, 'regressor__max_depth': 5, 'regressor__n_estimators': 200}\n",
      "Final R²: 0.8304654707455007\n",
      "Final RMSE: 84464.26385687722\n",
      "Final MAE: 60823.4590166999\n"
     ]
    }
   ],
   "source": [
    "best_model = gb_grid.best_estimator_\n",
    "best_params = gb_grid.best_params_\n",
    "print(\"Best Model:\", best_model)\n",
    "print(\"Best Parameters:\", best_params)\n",
    "\n",
    "# Evaluate on test set\n",
    "y_pred = best_model.predict(X_test)\n",
    "\n",
    "final_r2 = r2_score(y_test, y_pred)\n",
    "final_rmse = np.sqrt(mean_squared_error(y_test, y_pred))\n",
    "final_mae = mean_absolute_error(y_test, y_pred)\n",
    "\n",
    "print(\"Final R²:\", final_r2)\n",
    "print(\"Final RMSE:\", final_rmse)\n",
    "print(\"Final MAE:\", final_mae)"
   ]
  },
  {
   "cell_type": "code",
   "execution_count": 82,
   "id": "38fda78c",
   "metadata": {},
   "outputs": [
    {
     "name": "stdout",
     "output_type": "stream",
     "text": [
      "Original RMSE: 100000\n",
      "Tuned RMSE: 84464.26385687722\n",
      "Improvement: 15.54%\n"
     ]
    },
    {
     "data": {
      "image/png": "[encoded data removed]",
      "text/plain": [
       "<Figure size 640x480 with 1 Axes>"
      ]
     },
     "metadata": {},
     "output_type": "display_data"
    }
   ],
   "source": [
    "\n",
    "\n",
    "# RMSE from the original notebook (replace this with your recorded value)\n",
    "rmse_original = 100000  \n",
    "\n",
    "rmse_tuned = final_rmse\n",
    "improvement = (rmse_original - rmse_tuned) / rmse_original * 100\n",
    "\n",
    "print(\"Original RMSE:\", rmse_original)\n",
    "print(\"Tuned RMSE:\", rmse_tuned)\n",
    "print(f\"Improvement: {improvement:.2f}%\")\n",
    "\n",
    "# Bar chart comparison\n",
    "plt.bar([\"Original Model\", \"Tuned Model\"], [rmse_original, rmse_tuned], color=[\"red\", \"green\"])\n",
    "plt.ylabel(\"RMSE\")\n",
    "plt.title(\"RMSE Comparison\")\n",
    "plt.show()\n"
   ]
  },
  {
   "cell_type": "code",
   "execution_count": 83,
   "id": "e7df0eec",
   "metadata": {},
   "outputs": [
    {
     "data": {
      "image/png": "[encoded data removed]",
      "text/plain": [
       "<Figure size 1000x500 with 1 Axes>"
      ]
     },
     "metadata": {},
     "output_type": "display_data"
    }
   ],
   "source": [
    "# Only for tree-based models\n",
    "if hasattr(best_model.named_steps[\"regressor\"], \"feature_importances_\"):\n",
    "    importances = best_model.named_steps[\"regressor\"].feature_importances_\n",
    "    \n",
    "    # Get feature names from preprocessor\n",
    "    num_features_out = num_features\n",
    "    cat_features_out = best_model.named_steps[\"preprocessor\"].named_transformers_[\"cat\"][\"encoder\"].get_feature_names_out(cat_features)\n",
    "    passthrough_out = passthrough_features\n",
    "    feature_names = np.concatenate([num_features_out, cat_features_out, passthrough_out])\n",
    "    \n",
    "    # Sort top 10 features\n",
    "    indices = np.argsort(importances)[::-1][:10]\n",
    "    \n",
    "    plt.figure(figsize=(10, 5))\n",
    "    plt.barh(range(len(indices)), importances[indices][::-1], align=\"center\")\n",
    "    plt.yticks(range(len(indices)), feature_names[indices][::-1])\n",
    "    plt.xlabel(\"Feature Importance\")\n",
    "    plt.title(\"Top 10 Important Features\")\n",
    "    plt.show()\n"
   ]
  },
  {
   "cell_type": "markdown",
   "id": "7842d0a7",
   "metadata": {},
   "source": [
    "For the outliers, we noticed some really unrealistic values in the dataset. For example, the maximum number of bedrooms was 33, which is next to impossible in real life as most houses hardly go beyond 5 or 6 bedrooms. Such values don’t make sense and if kept, they would confuse the model, so we removed them. Similarly, in sqft_living there were houses with over 13,000 sqft, which again is very rare and doesn’t represent a normal house — these extreme values could push predictions in the wrong direction, so we removed them as well. Finally, in price, the maximum value was around 77 lakh dollars, which is extremely high compared to average houses. If we kept it, the model would start predicting higher prices even for normal houses because these huge prices pull the prediction graph upwards. That’s why we removed such outliers to make our model more realistic and better suited for predicting regular houses."
   ]
  }
 ],
 "metadata": {
  "kernelspec": {
   "display_name": "Python 3",
   "language": "python",
   "name": "python3"
  },
  "language_info": {
   "codemirror_mode": {
    "name": "ipython",
    "version": 3
   },
   "file_extension": ".py",
   "mimetype": "text/x-python",
   "name": "python",
   "nbconvert_exporter": "python",
   "pygments_lexer": "ipython3",
   "version": "3.13.5"
  }
 },
 "nbformat": 4,
 "nbformat_minor": 5
}
